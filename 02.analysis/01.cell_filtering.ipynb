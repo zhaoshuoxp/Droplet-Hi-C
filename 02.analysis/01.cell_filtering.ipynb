{
 "cells": [
  {
   "cell_type": "code",
   "execution_count": null,
   "id": "4ab9eb95",
   "metadata": {},
   "outputs": [],
   "source": [
    "suppressPackageStartupMessages(library(dplyr))\n",
    "library(ggplot2)\n",
    "source(\"/projects/ps-renlab2/y2xie/scripts/Paired-HiC/phc_help.R\")\n",
    "source(\"/projects/ps-renlab2/y2xie/scripts/DPT_help.R\")\n",
    "source(\"/projects/ps-renlab2/y2xie/scripts/basics.R\")"
   ]
  },
  {
   "cell_type": "markdown",
   "id": "a7c85bb8",
   "metadata": {},
   "source": [
    "## Cutoff selection"
   ]
  },
  {
   "cell_type": "code",
   "execution_count": null,
   "id": "2d52ae7e",
   "metadata": {},
   "outputs": [],
   "source": [
    "stat <- list()\n",
    "valid <- list()\n",
    "for (f in c(\"LC464\", \"LC465\", \"LC613\")){ \n",
    "    ### read count summary per cells, calculated during pre-processing\n",
    "    file <- list.files(path = \"../03.mapping/\", pattern = paste0(\"^\", f, \".*PairCount.stat.csv$\"))\n",
    "    stat[[f]] <- read.csv(paste0(\"../03.mapping/\", file), sep = \"\\t\", row.names = 1) %>% \n",
    "    setNames(c(\"total\",\"mapped\",\"unmapped\",\"duplicate\",\"cis\",\"cis_1kb-\",\"cis_1kb+\",\"cis_10kb+\",\"trans\"))\n",
    "    \n",
    "    ### automatically select cutoff by finding elbow, similar to the first version of cellranger\n",
    "    ### a plot will be saved on disk \n",
    "    valid[[f]] <- PHCrankPair(obj = stat[[f]], prefix = f)\n",
    "    \n",
    "    ### save the pass filter cells as a file\n",
    "    write.table(valid[[f]], file = paste0(f, \"_cutoff.cells.txt\"), \n",
    "                row.names = F, col.names = F, sep = \"\\t\", quote = F)\n",
    "}"
   ]
  }
 ],
 "metadata": {
  "kernelspec": {
   "display_name": "R",
   "language": "R",
   "name": "ir"
  },
  "language_info": {
   "codemirror_mode": "r",
   "file_extension": ".r",
   "mimetype": "text/x-r-source",
   "name": "R",
   "pygments_lexer": "r",
   "version": "4.1.2"
  }
 },
 "nbformat": 4,
 "nbformat_minor": 5
}
